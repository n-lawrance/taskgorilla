{
 "cells": [
  {
   "cell_type": "code",
   "execution_count": 34,
   "id": "32f1ce50",
   "metadata": {},
   "outputs": [],
   "source": [
    "import pandas as pd\n",
    "import seaborn as sns\n",
    "import numpy as np"
   ]
  },
  {
   "cell_type": "markdown",
   "id": "96d6be8c",
   "metadata": {},
   "source": [
    "#### Import all sheets and examine the data"
   ]
  },
  {
   "cell_type": "code",
   "execution_count": 21,
   "id": "80abd017",
   "metadata": {},
   "outputs": [],
   "source": [
    "df1 = pd.read_excel('./gorilla_test_data.xlsx', sheet_name=0)\n",
    "df2 = pd.read_excel('./gorilla_test_data.xlsx', sheet_name=1)\n",
    "df3 = pd.read_excel('./gorilla_test_data.xlsx', sheet_name=2)"
   ]
  },
  {
   "cell_type": "code",
   "execution_count": 4,
   "id": "c0a71ae6",
   "metadata": {},
   "outputs": [
    {
     "name": "stdout",
     "output_type": "stream",
     "text": [
      "<class 'pandas.core.frame.DataFrame'>\n",
      "RangeIndex: 4 entries, 0 to 3\n",
      "Data columns (total 3 columns):\n",
      " #   Column     Non-Null Count  Dtype \n",
      "---  ------     --------------  ----- \n",
      " 0   meter_id   4 non-null      int64 \n",
      " 1   aq_kwh     4 non-null      int64 \n",
      " 2   exit_zone  4 non-null      object\n",
      "dtypes: int64(2), object(1)\n",
      "memory usage: 224.0+ bytes\n"
     ]
    }
   ],
   "source": [
    "df1.info()"
   ]
  },
  {
   "cell_type": "code",
   "execution_count": 5,
   "id": "f4cfc8f6",
   "metadata": {},
   "outputs": [
    {
     "data": {
      "text/html": [
       "<div>\n",
       "<style scoped>\n",
       "    .dataframe tbody tr th:only-of-type {\n",
       "        vertical-align: middle;\n",
       "    }\n",
       "\n",
       "    .dataframe tbody tr th {\n",
       "        vertical-align: top;\n",
       "    }\n",
       "\n",
       "    .dataframe thead th {\n",
       "        text-align: right;\n",
       "    }\n",
       "</style>\n",
       "<table border=\"1\" class=\"dataframe\">\n",
       "  <thead>\n",
       "    <tr style=\"text-align: right;\">\n",
       "      <th></th>\n",
       "      <th>meter_id</th>\n",
       "      <th>aq_kwh</th>\n",
       "      <th>exit_zone</th>\n",
       "    </tr>\n",
       "  </thead>\n",
       "  <tbody>\n",
       "    <tr>\n",
       "      <th>0</th>\n",
       "      <td>14676236</td>\n",
       "      <td>28978</td>\n",
       "      <td>EA1</td>\n",
       "    </tr>\n",
       "    <tr>\n",
       "      <th>1</th>\n",
       "      <td>34509937</td>\n",
       "      <td>78324</td>\n",
       "      <td>SO1</td>\n",
       "    </tr>\n",
       "    <tr>\n",
       "      <th>2</th>\n",
       "      <td>50264822</td>\n",
       "      <td>265667</td>\n",
       "      <td>NT1</td>\n",
       "    </tr>\n",
       "    <tr>\n",
       "      <th>3</th>\n",
       "      <td>88357331</td>\n",
       "      <td>484399</td>\n",
       "      <td>SE2</td>\n",
       "    </tr>\n",
       "  </tbody>\n",
       "</table>\n",
       "</div>"
      ],
      "text/plain": [
       "   meter_id  aq_kwh exit_zone\n",
       "0  14676236   28978       EA1\n",
       "1  34509937   78324       SO1\n",
       "2  50264822  265667       NT1\n",
       "3  88357331  484399       SE2"
      ]
     },
     "execution_count": 5,
     "metadata": {},
     "output_type": "execute_result"
    }
   ],
   "source": [
    "df1"
   ]
  },
  {
   "cell_type": "code",
   "execution_count": 6,
   "id": "fd2bb02e",
   "metadata": {},
   "outputs": [
    {
     "name": "stdout",
     "output_type": "stream",
     "text": [
      "<class 'pandas.core.frame.DataFrame'>\n",
      "RangeIndex: 3412 entries, 0 to 3411\n",
      "Data columns (total 3 columns):\n",
      " #   Column    Non-Null Count  Dtype         \n",
      "---  ------    --------------  -----         \n",
      " 0   meter_id  3412 non-null   int64         \n",
      " 1   date      3412 non-null   datetime64[ns]\n",
      " 2   kwh       3412 non-null   float64       \n",
      "dtypes: datetime64[ns](1), float64(1), int64(1)\n",
      "memory usage: 80.1 KB\n"
     ]
    }
   ],
   "source": [
    "df2.info()"
   ]
  },
  {
   "cell_type": "code",
   "execution_count": 7,
   "id": "f7eee511",
   "metadata": {},
   "outputs": [
    {
     "data": {
      "text/html": [
       "<div>\n",
       "<style scoped>\n",
       "    .dataframe tbody tr th:only-of-type {\n",
       "        vertical-align: middle;\n",
       "    }\n",
       "\n",
       "    .dataframe tbody tr th {\n",
       "        vertical-align: top;\n",
       "    }\n",
       "\n",
       "    .dataframe thead th {\n",
       "        text-align: right;\n",
       "    }\n",
       "</style>\n",
       "<table border=\"1\" class=\"dataframe\">\n",
       "  <thead>\n",
       "    <tr style=\"text-align: right;\">\n",
       "      <th></th>\n",
       "      <th>meter_id</th>\n",
       "      <th>date</th>\n",
       "      <th>kwh</th>\n",
       "    </tr>\n",
       "  </thead>\n",
       "  <tbody>\n",
       "    <tr>\n",
       "      <th>0</th>\n",
       "      <td>14676236</td>\n",
       "      <td>2020-06-01</td>\n",
       "      <td>22.070768</td>\n",
       "    </tr>\n",
       "    <tr>\n",
       "      <th>1</th>\n",
       "      <td>14676236</td>\n",
       "      <td>2020-06-02</td>\n",
       "      <td>19.170720</td>\n",
       "    </tr>\n",
       "    <tr>\n",
       "      <th>2</th>\n",
       "      <td>14676236</td>\n",
       "      <td>2020-06-03</td>\n",
       "      <td>23.555111</td>\n",
       "    </tr>\n",
       "    <tr>\n",
       "      <th>3</th>\n",
       "      <td>14676236</td>\n",
       "      <td>2020-06-04</td>\n",
       "      <td>18.220712</td>\n",
       "    </tr>\n",
       "    <tr>\n",
       "      <th>4</th>\n",
       "      <td>14676236</td>\n",
       "      <td>2020-06-05</td>\n",
       "      <td>14.196134</td>\n",
       "    </tr>\n",
       "    <tr>\n",
       "      <th>...</th>\n",
       "      <td>...</td>\n",
       "      <td>...</td>\n",
       "      <td>...</td>\n",
       "    </tr>\n",
       "    <tr>\n",
       "      <th>3407</th>\n",
       "      <td>88357331</td>\n",
       "      <td>2022-09-27</td>\n",
       "      <td>441.014725</td>\n",
       "    </tr>\n",
       "    <tr>\n",
       "      <th>3408</th>\n",
       "      <td>88357331</td>\n",
       "      <td>2022-09-28</td>\n",
       "      <td>441.512055</td>\n",
       "    </tr>\n",
       "    <tr>\n",
       "      <th>3409</th>\n",
       "      <td>88357331</td>\n",
       "      <td>2022-09-29</td>\n",
       "      <td>437.240657</td>\n",
       "    </tr>\n",
       "    <tr>\n",
       "      <th>3410</th>\n",
       "      <td>88357331</td>\n",
       "      <td>2022-09-30</td>\n",
       "      <td>517.608354</td>\n",
       "    </tr>\n",
       "    <tr>\n",
       "      <th>3411</th>\n",
       "      <td>88357331</td>\n",
       "      <td>2022-10-01</td>\n",
       "      <td>460.535505</td>\n",
       "    </tr>\n",
       "  </tbody>\n",
       "</table>\n",
       "<p>3412 rows × 3 columns</p>\n",
       "</div>"
      ],
      "text/plain": [
       "      meter_id       date         kwh\n",
       "0     14676236 2020-06-01   22.070768\n",
       "1     14676236 2020-06-02   19.170720\n",
       "2     14676236 2020-06-03   23.555111\n",
       "3     14676236 2020-06-04   18.220712\n",
       "4     14676236 2020-06-05   14.196134\n",
       "...        ...        ...         ...\n",
       "3407  88357331 2022-09-27  441.014725\n",
       "3408  88357331 2022-09-28  441.512055\n",
       "3409  88357331 2022-09-29  437.240657\n",
       "3410  88357331 2022-09-30  517.608354\n",
       "3411  88357331 2022-10-01  460.535505\n",
       "\n",
       "[3412 rows x 3 columns]"
      ]
     },
     "execution_count": 7,
     "metadata": {},
     "output_type": "execute_result"
    }
   ],
   "source": [
    "df2"
   ]
  },
  {
   "cell_type": "markdown",
   "id": "789b8123",
   "metadata": {},
   "source": [
    "#### Checking for gaps in the consumption dates"
   ]
  },
  {
   "cell_type": "code",
   "execution_count": 8,
   "id": "2c87411e",
   "metadata": {},
   "outputs": [
    {
     "data": {
      "text/html": [
       "<div>\n",
       "<style scoped>\n",
       "    .dataframe tbody tr th:only-of-type {\n",
       "        vertical-align: middle;\n",
       "    }\n",
       "\n",
       "    .dataframe tbody tr th {\n",
       "        vertical-align: top;\n",
       "    }\n",
       "\n",
       "    .dataframe thead th {\n",
       "        text-align: right;\n",
       "    }\n",
       "</style>\n",
       "<table border=\"1\" class=\"dataframe\">\n",
       "  <thead>\n",
       "    <tr style=\"text-align: right;\">\n",
       "      <th></th>\n",
       "      <th>min</th>\n",
       "      <th>max</th>\n",
       "    </tr>\n",
       "  </thead>\n",
       "  <tbody>\n",
       "    <tr>\n",
       "      <th>date</th>\n",
       "      <td>2020-06-01</td>\n",
       "      <td>2022-10-01</td>\n",
       "    </tr>\n",
       "  </tbody>\n",
       "</table>\n",
       "</div>"
      ],
      "text/plain": [
       "            min        max\n",
       "date 2020-06-01 2022-10-01"
      ]
     },
     "execution_count": 8,
     "metadata": {},
     "output_type": "execute_result"
    }
   ],
   "source": [
    "# check date index extremes\n",
    "df2[['date']].describe(datetime_is_numeric=True).T[['min', 'max']]"
   ]
  },
  {
   "cell_type": "code",
   "execution_count": 9,
   "id": "2ec37339",
   "metadata": {},
   "outputs": [],
   "source": [
    "# # checking for missing values in the date index\n",
    "assert len(pd.date_range(start = '2020-06-01', end = '2022-10-01' )) == len(set(pd.to_datetime(df2['date']).values))\n"
   ]
  },
  {
   "cell_type": "code",
   "execution_count": 10,
   "id": "e5d8c21b",
   "metadata": {},
   "outputs": [],
   "source": [
    "# # checking for missing values in the date index\n",
    "assert len(set(np.asarray(pd.date_range(start = '2020-06-01', end = '2022-10-01' ))).difference(pd.to_datetime(df2['date']).values)) == 0\n"
   ]
  },
  {
   "cell_type": "markdown",
   "id": "730c350e",
   "metadata": {},
   "source": [
    "#### Join meter AQ data with daily consumption"
   ]
  },
  {
   "cell_type": "code",
   "execution_count": 11,
   "id": "ef92d967",
   "metadata": {},
   "outputs": [],
   "source": [
    "consumption_info = df2.join(df1.set_index('meter_id'), how='left', sort=False, on='meter_id')"
   ]
  },
  {
   "cell_type": "code",
   "execution_count": 12,
   "id": "a51bd05a",
   "metadata": {},
   "outputs": [],
   "source": [
    "# check the merge was correct and no observations were lost\n",
    "assert len(consumption_info)== len(df2)"
   ]
  },
  {
   "cell_type": "code",
   "execution_count": 13,
   "id": "f2963142",
   "metadata": {},
   "outputs": [],
   "source": [
    "# for future joins\n",
    "consumption_info['date'] = consumption_info['date'].dt.to_period('D')"
   ]
  },
  {
   "cell_type": "code",
   "execution_count": 22,
   "id": "b7453b37",
   "metadata": {},
   "outputs": [
    {
     "name": "stdout",
     "output_type": "stream",
     "text": [
      "<class 'pandas.core.frame.DataFrame'>\n",
      "RangeIndex: 1140 entries, 0 to 1139\n",
      "Data columns (total 5 columns):\n",
      " #   Column          Non-Null Count  Dtype         \n",
      "---  ------          --------------  -----         \n",
      " 0   date            1140 non-null   datetime64[ns]\n",
      " 1   exit_zone       1140 non-null   object        \n",
      " 2   aq_min_kwh      1140 non-null   int64         \n",
      " 3   aq_max_kwh      760 non-null    float64       \n",
      " 4   rate_p_per_kwh  1140 non-null   float64       \n",
      "dtypes: datetime64[ns](1), float64(2), int64(1), object(1)\n",
      "memory usage: 44.7+ KB\n"
     ]
    }
   ],
   "source": [
    "df3.info()"
   ]
  },
  {
   "cell_type": "code",
   "execution_count": 23,
   "id": "3d5dc49a",
   "metadata": {},
   "outputs": [
    {
     "data": {
      "text/html": [
       "<div>\n",
       "<style scoped>\n",
       "    .dataframe tbody tr th:only-of-type {\n",
       "        vertical-align: middle;\n",
       "    }\n",
       "\n",
       "    .dataframe tbody tr th {\n",
       "        vertical-align: top;\n",
       "    }\n",
       "\n",
       "    .dataframe thead th {\n",
       "        text-align: right;\n",
       "    }\n",
       "</style>\n",
       "<table border=\"1\" class=\"dataframe\">\n",
       "  <thead>\n",
       "    <tr style=\"text-align: right;\">\n",
       "      <th></th>\n",
       "      <th>date</th>\n",
       "      <th>exit_zone</th>\n",
       "      <th>aq_min_kwh</th>\n",
       "      <th>aq_max_kwh</th>\n",
       "      <th>rate_p_per_kwh</th>\n",
       "    </tr>\n",
       "  </thead>\n",
       "  <tbody>\n",
       "    <tr>\n",
       "      <th>0</th>\n",
       "      <td>2020-04-01</td>\n",
       "      <td>EA1</td>\n",
       "      <td>0</td>\n",
       "      <td>73200.0</td>\n",
       "      <td>0.2652</td>\n",
       "    </tr>\n",
       "    <tr>\n",
       "      <th>1</th>\n",
       "      <td>2020-04-01</td>\n",
       "      <td>EA1</td>\n",
       "      <td>73200</td>\n",
       "      <td>732000.0</td>\n",
       "      <td>0.1980</td>\n",
       "    </tr>\n",
       "    <tr>\n",
       "      <th>2</th>\n",
       "      <td>2020-04-01</td>\n",
       "      <td>EA1</td>\n",
       "      <td>732000</td>\n",
       "      <td>NaN</td>\n",
       "      <td>0.2875</td>\n",
       "    </tr>\n",
       "    <tr>\n",
       "      <th>3</th>\n",
       "      <td>2020-04-01</td>\n",
       "      <td>EA2</td>\n",
       "      <td>0</td>\n",
       "      <td>73200.0</td>\n",
       "      <td>0.2970</td>\n",
       "    </tr>\n",
       "    <tr>\n",
       "      <th>4</th>\n",
       "      <td>2020-04-01</td>\n",
       "      <td>EA2</td>\n",
       "      <td>73200</td>\n",
       "      <td>732000.0</td>\n",
       "      <td>0.1524</td>\n",
       "    </tr>\n",
       "    <tr>\n",
       "      <th>...</th>\n",
       "      <td>...</td>\n",
       "      <td>...</td>\n",
       "      <td>...</td>\n",
       "      <td>...</td>\n",
       "      <td>...</td>\n",
       "    </tr>\n",
       "    <tr>\n",
       "      <th>1135</th>\n",
       "      <td>2024-10-01</td>\n",
       "      <td>WM2</td>\n",
       "      <td>73200</td>\n",
       "      <td>732000.0</td>\n",
       "      <td>0.4537</td>\n",
       "    </tr>\n",
       "    <tr>\n",
       "      <th>1136</th>\n",
       "      <td>2024-10-01</td>\n",
       "      <td>WM2</td>\n",
       "      <td>732000</td>\n",
       "      <td>NaN</td>\n",
       "      <td>0.7534</td>\n",
       "    </tr>\n",
       "    <tr>\n",
       "      <th>1137</th>\n",
       "      <td>2024-10-01</td>\n",
       "      <td>WM3</td>\n",
       "      <td>0</td>\n",
       "      <td>73200.0</td>\n",
       "      <td>0.7263</td>\n",
       "    </tr>\n",
       "    <tr>\n",
       "      <th>1138</th>\n",
       "      <td>2024-10-01</td>\n",
       "      <td>WM3</td>\n",
       "      <td>73200</td>\n",
       "      <td>732000.0</td>\n",
       "      <td>0.6109</td>\n",
       "    </tr>\n",
       "    <tr>\n",
       "      <th>1139</th>\n",
       "      <td>2024-10-01</td>\n",
       "      <td>WM3</td>\n",
       "      <td>732000</td>\n",
       "      <td>NaN</td>\n",
       "      <td>0.4928</td>\n",
       "    </tr>\n",
       "  </tbody>\n",
       "</table>\n",
       "<p>1140 rows × 5 columns</p>\n",
       "</div>"
      ],
      "text/plain": [
       "           date exit_zone  aq_min_kwh  aq_max_kwh  rate_p_per_kwh\n",
       "0    2020-04-01       EA1           0     73200.0          0.2652\n",
       "1    2020-04-01       EA1       73200    732000.0          0.1980\n",
       "2    2020-04-01       EA1      732000         NaN          0.2875\n",
       "3    2020-04-01       EA2           0     73200.0          0.2970\n",
       "4    2020-04-01       EA2       73200    732000.0          0.1524\n",
       "...         ...       ...         ...         ...             ...\n",
       "1135 2024-10-01       WM2       73200    732000.0          0.4537\n",
       "1136 2024-10-01       WM2      732000         NaN          0.7534\n",
       "1137 2024-10-01       WM3           0     73200.0          0.7263\n",
       "1138 2024-10-01       WM3       73200    732000.0          0.6109\n",
       "1139 2024-10-01       WM3      732000         NaN          0.4928\n",
       "\n",
       "[1140 rows x 5 columns]"
      ]
     },
     "execution_count": 23,
     "metadata": {},
     "output_type": "execute_result"
    }
   ],
   "source": [
    "df3"
   ]
  },
  {
   "cell_type": "markdown",
   "id": "f4aa04e1",
   "metadata": {},
   "source": [
    "#### fill missing values in the upper bracket\n",
    "#### for lack of domain knowledge, similar to the middle bracket the upper bracket will be aq_min * 10\n"
   ]
  },
  {
   "cell_type": "code",
   "execution_count": 24,
   "id": "8caeac3d",
   "metadata": {},
   "outputs": [],
   "source": [
    "df3['aq_max_kwh'].fillna(7320000, inplace=True)"
   ]
  },
  {
   "cell_type": "code",
   "execution_count": 25,
   "id": "7c8165c5",
   "metadata": {},
   "outputs": [],
   "source": [
    "# check the nulls are gone\n",
    "assert df3.isnull().sum().std() ==0"
   ]
  },
  {
   "cell_type": "code",
   "execution_count": 26,
   "id": "ceb5ad5e",
   "metadata": {},
   "outputs": [],
   "source": [
    "# change datetimeindex to period index for joins\n",
    "df3['date'] = df3['date'].dt.to_period('D')"
   ]
  },
  {
   "cell_type": "code",
   "execution_count": 27,
   "id": "1b7b579e",
   "metadata": {},
   "outputs": [],
   "source": [
    "# adding a categorical variable to describe the rates bracket for plotting or filtering\n",
    "df3['rate_type'] = df3['aq_min_kwh'].map({0 : 'bracket 1', 73200 : 'bracket 2', 732000 : 'bracket 3'})"
   ]
  },
  {
   "cell_type": "markdown",
   "id": "0842d722",
   "metadata": {},
   "source": [
    "#### Noting only 10 unique dates vs 853 in the consumption dataset"
   ]
  },
  {
   "cell_type": "code",
   "execution_count": 28,
   "id": "a33376cc",
   "metadata": {},
   "outputs": [
    {
     "data": {
      "text/html": [
       "<div>\n",
       "<style scoped>\n",
       "    .dataframe tbody tr th:only-of-type {\n",
       "        vertical-align: middle;\n",
       "    }\n",
       "\n",
       "    .dataframe tbody tr th {\n",
       "        vertical-align: top;\n",
       "    }\n",
       "\n",
       "    .dataframe thead th {\n",
       "        text-align: right;\n",
       "    }\n",
       "</style>\n",
       "<table border=\"1\" class=\"dataframe\">\n",
       "  <thead>\n",
       "    <tr style=\"text-align: right;\">\n",
       "      <th></th>\n",
       "      <th>count</th>\n",
       "      <th>unique</th>\n",
       "      <th>top</th>\n",
       "      <th>freq</th>\n",
       "    </tr>\n",
       "  </thead>\n",
       "  <tbody>\n",
       "    <tr>\n",
       "      <th>date</th>\n",
       "      <td>1140</td>\n",
       "      <td>10</td>\n",
       "      <td>2020-10-01</td>\n",
       "      <td>114</td>\n",
       "    </tr>\n",
       "  </tbody>\n",
       "</table>\n",
       "</div>"
      ],
      "text/plain": [
       "     count unique         top freq\n",
       "date  1140     10  2020-10-01  114"
      ]
     },
     "execution_count": 28,
     "metadata": {},
     "output_type": "execute_result"
    }
   ],
   "source": [
    "df3[['date']].describe().T"
   ]
  },
  {
   "cell_type": "markdown",
   "id": "80d0757c",
   "metadata": {},
   "source": [
    "#### checking each exit zone has the same number of observations for each of the periods"
   ]
  },
  {
   "cell_type": "code",
   "execution_count": 29,
   "id": "c3cad11e",
   "metadata": {},
   "outputs": [
    {
     "data": {
      "text/plain": [
       "exit_zone         0.0\n",
       "aq_min_kwh        0.0\n",
       "aq_max_kwh        0.0\n",
       "rate_p_per_kwh    0.0\n",
       "rate_type         0.0\n",
       "dtype: float64"
      ]
     },
     "execution_count": 29,
     "metadata": {},
     "output_type": "execute_result"
    }
   ],
   "source": [
    "df3.groupby('date').count().std() "
   ]
  },
  {
   "cell_type": "markdown",
   "id": "da8b1b67",
   "metadata": {},
   "source": [
    "#### Observe: the rates increase every period, but we only have 10 observations, so need to interpolate to fill missing data for remaining 843 periods"
   ]
  },
  {
   "cell_type": "code",
   "execution_count": 43,
   "id": "bff2a5b4",
   "metadata": {},
   "outputs": [
    {
     "data": {
      "image/png": "[encoded data removed]",
      "text/plain": [
       "<Figure size 1078.5x500 with 1 Axes>"
      ]
     },
     "metadata": {},
     "output_type": "display_data"
    }
   ],
   "source": [
    "# filter dataset to known exit_zone codes\n",
    "d = df3[df3['exit_zone'].isin(df1['exit_zone'].unique())]\n",
    "\n",
    "g = sns.catplot(data=d,\n",
    "                x='date', y = 'rate_p_per_kwh',\n",
    "                hue='exit_zone', aspect=2, kind='bar')\n",
    "# g.set_xticklabels(rotation=60)"
   ]
  },
  {
   "cell_type": "code",
   "execution_count": 44,
   "id": "6c3befe4",
   "metadata": {},
   "outputs": [],
   "source": [
    "from itertools import product, combinations\n",
    "\n",
    "# complete missing date information for interpolation for each of the exit_zones\n",
    "\n",
    "start = '2020-04-01'\n",
    "end = '2022-10-01'\n",
    "\n",
    "dates_range = pd.period_range(start=start, end=end, freq='D')\n",
    "dates_range\n",
    "\n",
    "complete_period = pd.DataFrame(product(consumption_info['exit_zone'].unique(),\n",
    "                                        dates_range), columns=['exit_zone', 'date'],\n",
    "\n",
    "                              )"
   ]
  },
  {
   "cell_type": "code",
   "execution_count": 45,
   "id": "792f6723",
   "metadata": {},
   "outputs": [
    {
     "name": "stdout",
     "output_type": "stream",
     "text": [
      "<class 'pandas.core.frame.DataFrame'>\n",
      "RangeIndex: 3656 entries, 0 to 3655\n",
      "Data columns (total 2 columns):\n",
      " #   Column     Non-Null Count  Dtype    \n",
      "---  ------     --------------  -----    \n",
      " 0   exit_zone  3656 non-null   object   \n",
      " 1   date       3656 non-null   period[D]\n",
      "dtypes: object(1), period[D](1)\n",
      "memory usage: 57.2+ KB\n"
     ]
    }
   ],
   "source": [
    "complete_period.info()"
   ]
  },
  {
   "cell_type": "markdown",
   "id": "700284d4",
   "metadata": {},
   "source": [
    "#### augment rates dataset with daily observations"
   ]
  },
  {
   "cell_type": "code",
   "execution_count": 49,
   "id": "bf882e5c",
   "metadata": {},
   "outputs": [
    {
     "data": {
      "text/plain": [
       "exit_zone            0\n",
       "date                 0\n",
       "aq_min_kwh        3632\n",
       "aq_max_kwh        3632\n",
       "rate_p_per_kwh    3632\n",
       "rate_type         3632\n",
       "dtype: int64"
      ]
     },
     "execution_count": 49,
     "metadata": {},
     "output_type": "execute_result"
    }
   ],
   "source": [
    "daily_rates = complete_period.merge(df3, on =['exit_zone', 'date'], how='left')\n",
    "daily_rates.isnull().sum()"
   ]
  },
  {
   "cell_type": "markdown",
   "id": "788f53cb",
   "metadata": {},
   "source": [
    "#### assuming the rates hold until the following period, forward fill is used to populate missing values"
   ]
  },
  {
   "cell_type": "code",
   "execution_count": 50,
   "id": "eb936b75",
   "metadata": {},
   "outputs": [
    {
     "data": {
      "text/html": [
       "<div>\n",
       "<style scoped>\n",
       "    .dataframe tbody tr th:only-of-type {\n",
       "        vertical-align: middle;\n",
       "    }\n",
       "\n",
       "    .dataframe tbody tr th {\n",
       "        vertical-align: top;\n",
       "    }\n",
       "\n",
       "    .dataframe thead th {\n",
       "        text-align: right;\n",
       "    }\n",
       "</style>\n",
       "<table border=\"1\" class=\"dataframe\">\n",
       "  <thead>\n",
       "    <tr style=\"text-align: right;\">\n",
       "      <th></th>\n",
       "      <th>aq_min_kwh</th>\n",
       "      <th>aq_max_kwh</th>\n",
       "      <th>rate_p_per_kwh</th>\n",
       "    </tr>\n",
       "  </thead>\n",
       "  <tbody>\n",
       "    <tr>\n",
       "      <th>count</th>\n",
       "      <td>10968.000000</td>\n",
       "      <td>1.096800e+04</td>\n",
       "      <td>10968.000000</td>\n",
       "    </tr>\n",
       "    <tr>\n",
       "      <th>mean</th>\n",
       "      <td>268400.000000</td>\n",
       "      <td>2.708400e+06</td>\n",
       "      <td>0.296818</td>\n",
       "    </tr>\n",
       "    <tr>\n",
       "      <th>std</th>\n",
       "      <td>329189.003678</td>\n",
       "      <td>3.272115e+06</td>\n",
       "      <td>0.059597</td>\n",
       "    </tr>\n",
       "    <tr>\n",
       "      <th>min</th>\n",
       "      <td>0.000000</td>\n",
       "      <td>7.320000e+04</td>\n",
       "      <td>0.190200</td>\n",
       "    </tr>\n",
       "    <tr>\n",
       "      <th>25%</th>\n",
       "      <td>0.000000</td>\n",
       "      <td>7.320000e+04</td>\n",
       "      <td>0.253700</td>\n",
       "    </tr>\n",
       "    <tr>\n",
       "      <th>50%</th>\n",
       "      <td>73200.000000</td>\n",
       "      <td>7.320000e+05</td>\n",
       "      <td>0.290800</td>\n",
       "    </tr>\n",
       "    <tr>\n",
       "      <th>75%</th>\n",
       "      <td>732000.000000</td>\n",
       "      <td>7.320000e+06</td>\n",
       "      <td>0.341300</td>\n",
       "    </tr>\n",
       "    <tr>\n",
       "      <th>max</th>\n",
       "      <td>732000.000000</td>\n",
       "      <td>7.320000e+06</td>\n",
       "      <td>0.506700</td>\n",
       "    </tr>\n",
       "  </tbody>\n",
       "</table>\n",
       "</div>"
      ],
      "text/plain": [
       "          aq_min_kwh    aq_max_kwh  rate_p_per_kwh\n",
       "count   10968.000000  1.096800e+04    10968.000000\n",
       "mean   268400.000000  2.708400e+06        0.296818\n",
       "std    329189.003678  3.272115e+06        0.059597\n",
       "min         0.000000  7.320000e+04        0.190200\n",
       "25%         0.000000  7.320000e+04        0.253700\n",
       "50%     73200.000000  7.320000e+05        0.290800\n",
       "75%    732000.000000  7.320000e+06        0.341300\n",
       "max    732000.000000  7.320000e+06        0.506700"
      ]
     },
     "execution_count": 50,
     "metadata": {},
     "output_type": "execute_result"
    }
   ],
   "source": [
    "daily_rates_complete = pd.concat([df3[(df3['rate_type']==bracket) & \n",
    "     df3['exit_zone'].isin(consumption_info['exit_zone'].unique())\n",
    "   ].merge(complete_period,on=['exit_zone', 'date'],how='right').fillna(method='ffill')\n",
    " for bracket in ['bracket 1', 'bracket 2', 'bracket 3']], axis=0)\n",
    "\n",
    "# check rates distribution resembles the original\n",
    "daily_rates_complete.describe()"
   ]
  },
  {
   "cell_type": "code",
   "execution_count": 52,
   "id": "798bc6c4",
   "metadata": {},
   "outputs": [],
   "source": [
    "daily_consumption = consumption_info.merge(\n",
    "    daily_rates_complete, on=list(set(consumption_info.columns).intersection(daily_rates.columns)),\n",
    "    how='left')"
   ]
  },
  {
   "cell_type": "code",
   "execution_count": 54,
   "id": "090f0db2",
   "metadata": {},
   "outputs": [],
   "source": [
    "# check no null values appeared after join\n",
    "assert daily_consumption.isnull().sum().std()==0"
   ]
  },
  {
   "cell_type": "code",
   "execution_count": 58,
   "id": "741a021f",
   "metadata": {},
   "outputs": [],
   "source": [
    "# filter out irrelevant rates \n",
    "df4 = daily_consumption[(daily_consumption['aq_kwh']>= daily_consumption['aq_min_kwh']) & \n",
    "                  (daily_consumption['aq_kwh'] < daily_consumption['aq_max_kwh'])]\n"
   ]
  },
  {
   "cell_type": "code",
   "execution_count": 61,
   "id": "3c1c61ea",
   "metadata": {},
   "outputs": [],
   "source": [
    "# check the daily rates post joins have the same number of observations as the daily consumptino forecast table\n",
    "assert len(df4) == len(df2)"
   ]
  },
  {
   "cell_type": "markdown",
   "id": "4d2bef7f",
   "metadata": {},
   "source": [
    "# Q1: Calculate the total cost per meter by summing its daily charges for the full forecast period and converting to Pounds (1p = 0.01£)."
   ]
  },
  {
   "cell_type": "code",
   "execution_count": 63,
   "id": "50eef6b8",
   "metadata": {},
   "outputs": [
    {
     "name": "stderr",
     "output_type": "stream",
     "text": [
      "/home/nlawranc/anaconda3/lib/python3.7/site-packages/ipykernel_launcher.py:1: SettingWithCopyWarning: \n",
      "A value is trying to be set on a copy of a slice from a DataFrame.\n",
      "Try using .loc[row_indexer,col_indexer] = value instead\n",
      "\n",
      "See the caveats in the documentation: https://pandas.pydata.org/pandas-docs/stable/user_guide/indexing.html#returning-a-view-versus-a-copy\n",
      "  \"\"\"Entry point for launching an IPython kernel.\n"
     ]
    }
   ],
   "source": [
    "df4['TC_GBP'] = ((df4['kwh']*df4['rate_p_per_kwh'])*0.01)"
   ]
  },
  {
   "cell_type": "code",
   "execution_count": 64,
   "id": "3a66f652",
   "metadata": {},
   "outputs": [
    {
     "data": {
      "text/html": [
       "<div>\n",
       "<style scoped>\n",
       "    .dataframe tbody tr th:only-of-type {\n",
       "        vertical-align: middle;\n",
       "    }\n",
       "\n",
       "    .dataframe tbody tr th {\n",
       "        vertical-align: top;\n",
       "    }\n",
       "\n",
       "    .dataframe thead th {\n",
       "        text-align: right;\n",
       "    }\n",
       "</style>\n",
       "<table border=\"1\" class=\"dataframe\">\n",
       "  <thead>\n",
       "    <tr style=\"text-align: right;\">\n",
       "      <th></th>\n",
       "      <th>meter_id</th>\n",
       "      <th>TotalEstimatedConsumption (kwh)</th>\n",
       "      <th>TotalCost (GBP)</th>\n",
       "    </tr>\n",
       "  </thead>\n",
       "  <tbody>\n",
       "    <tr>\n",
       "      <th>0</th>\n",
       "      <td>14676236</td>\n",
       "      <td>28978.0</td>\n",
       "      <td>100.15</td>\n",
       "    </tr>\n",
       "    <tr>\n",
       "      <th>1</th>\n",
       "      <td>34509937</td>\n",
       "      <td>78324.0</td>\n",
       "      <td>275.49</td>\n",
       "    </tr>\n",
       "    <tr>\n",
       "      <th>2</th>\n",
       "      <td>50264822</td>\n",
       "      <td>265667.0</td>\n",
       "      <td>731.24</td>\n",
       "    </tr>\n",
       "    <tr>\n",
       "      <th>3</th>\n",
       "      <td>88357331</td>\n",
       "      <td>484399.0</td>\n",
       "      <td>1433.16</td>\n",
       "    </tr>\n",
       "  </tbody>\n",
       "</table>\n",
       "</div>"
      ],
      "text/plain": [
       "   meter_id  TotalEstimatedConsumption (kwh)  TotalCost (GBP)\n",
       "0  14676236                          28978.0           100.15\n",
       "1  34509937                          78324.0           275.49\n",
       "2  50264822                         265667.0           731.24\n",
       "3  88357331                         484399.0          1433.16"
      ]
     },
     "execution_count": 64,
     "metadata": {},
     "output_type": "execute_result"
    }
   ],
   "source": [
    "summary = df4.groupby('meter_id', as_index=True).sum()[['kwh', 'TC_GBP']].round(2).rename({'kwh' : 'TotalEstimatedConsumption (kwh)',\n",
    "                                                          'TC_GBP' : 'TotalCost (GBP)'}, axis=1).reset_index()\n",
    "summary"
   ]
  },
  {
   "cell_type": "code",
   "execution_count": 68,
   "id": "4442ec1a",
   "metadata": {},
   "outputs": [
    {
     "data": {
      "text/plain": [
       "<seaborn.axisgrid.FacetGrid at 0x7ff26a1b5110>"
      ]
     },
     "execution_count": 68,
     "metadata": {},
     "output_type": "execute_result"
    },
    {
     "data": {
      "image/png": "[encoded data removed]",
      "text/plain": [
       "<Figure size 600x400 with 1 Axes>"
      ]
     },
     "metadata": {},
     "output_type": "display_data"
    }
   ],
   "source": [
    "sns.catplot(data = summary, x='meter_id', y='TotalCost (GBP)', kind='bar', height=4, aspect = 1.5\n",
    "            )"
   ]
  },
  {
   "cell_type": "markdown",
   "id": "a2366280",
   "metadata": {},
   "source": [
    "# Q2. Write a function that generates a list of random meters of any size. Examples of valid exit zones can be found in the rate table. You may randomly generate the annual quantity."
   ]
  },
  {
   "cell_type": "code",
   "execution_count": 69,
   "id": "2e63a6a4",
   "metadata": {},
   "outputs": [],
   "source": [
    "from random import uniform, randint, randrange"
   ]
  },
  {
   "cell_type": "code",
   "execution_count": 72,
   "id": "4738f8f8",
   "metadata": {},
   "outputs": [],
   "source": [
    "def gen_aq(rates_bracket):\n",
    "    \n",
    "    \"\"\" Function that samples AQ from the uniform distribution according to the rates bracket.\n",
    "    \n",
    "    Parameters\n",
    "    ----------\n",
    "    rates_bracket : str\n",
    "        Possible options are: ['braket 1', 'bracket 2', 'bracket 3']\n",
    "\n",
    "    Returns\n",
    "    -------\n",
    "    float\n",
    "        A random number from a specified range\n",
    "    \"\"\"\n",
    "    \n",
    "    if rates_bracket == 'bracket 1':\n",
    "        return uniform(0,73200)\n",
    "    elif rates_bracket == 'bracket 2':\n",
    "        return uniform(73200,732000)\n",
    "    elif rates_bracket == 'bracket 3':\n",
    "        return uniform(732000,7320000)\n",
    "    else:\n",
    "        return print('Unknown bracket type')\n",
    "\n",
    "def sample_meters(input_df, seed):\n",
    "    \"\"\"Function that picks a random sample from the available exit zone and rates table \n",
    "    and generates an appropriate AQ according to the sampled bracket and a random meter_id.\n",
    "\n",
    "    Parameters\n",
    "    ----------\n",
    "    input_df : pandas dataframe\n",
    "        a dataframe to sample from\n",
    "    seed : int \n",
    "        a positive integer to set the random_state \n",
    "\n",
    "    Returns\n",
    "    -------\n",
    "    pandas df\n",
    "        A dataframe\n",
    "\n",
    "    \"\"\"\n",
    "    \n",
    "    \n",
    "    #sample one row with replacement\n",
    "    sample = input_df.sample(n=1,\n",
    "                             replace=True,\n",
    "                             random_state=seed,\n",
    "                             axis=0)\n",
    "\n",
    "    # generate random number within rates boundaries\n",
    "    sample['aq_kwh'] = sample['rate_type'].apply(gen_aq)\n",
    "\n",
    "    # generate a random 8-digit meter_id\n",
    "    sample['meter_id'] = np.random.randint(10000000,99999999, size=1)\n",
    "    \n",
    "    return sample[['meter_id','aq_kwh', 'exit_zone']]\n",
    "\n",
    "def gen_a_list_of_meters(input_df, list_size):\n",
    "    \"\"\" A function to generate a list of random meters.\n",
    "    \n",
    "    \n",
    "    Parameters:\n",
    "    \n",
    "    input_df: pandas dataframe\n",
    "        a dataframe containing rates for various exit zones\n",
    "    list_size : int\n",
    "        an integer indicating the size of the desired list of random meters\n",
    "    \n",
    "    Returns:\n",
    "    \n",
    "    list: a list of pandas dataframes (dim 1x3) of specified in parameters list_size\n",
    "        \n",
    "    \"\"\"\n",
    "    \n",
    "    return [sample_meters(input_df,seed=i) for i in np.random.randint(0,100,size=list_size)]"
   ]
  },
  {
   "cell_type": "code",
   "execution_count": 74,
   "id": "a6ad9a76",
   "metadata": {},
   "outputs": [
    {
     "data": {
      "text/plain": [
       "[     meter_id        aq_kwh exit_zone\n",
       " 131  19585532  1.926068e+06       EM2,\n",
       "      meter_id       aq_kwh exit_zone\n",
       " 942  80131732  5729.278314        LS,\n",
       "      meter_id        aq_kwh exit_zone\n",
       " 122  28972775  6.914353e+06       EA3,\n",
       "      meter_id         aq_kwh exit_zone\n",
       " 727  56041073  521048.646245       NE2,\n",
       "       meter_id         aq_kwh exit_zone\n",
       " 1123  80762855  170471.113696       SW3,\n",
       "      meter_id         aq_kwh exit_zone\n",
       " 727  15802150  256584.977221       NE2,\n",
       "     meter_id      aq_kwh exit_zone\n",
       " 90  62439137  6299.41898       SW1,\n",
       "      meter_id        aq_kwh exit_zone\n",
       " 837  14755363  41855.951635       NE1,\n",
       "      meter_id         aq_kwh exit_zone\n",
       " 118  74835869  382525.820079       EA2,\n",
       "      meter_id        aq_kwh exit_zone\n",
       " 969  73226830  37536.049114       NT2]"
      ]
     },
     "execution_count": 74,
     "metadata": {},
     "output_type": "execute_result"
    }
   ],
   "source": [
    "gen_a_list_of_meters(df3, list_size=10)"
   ]
  },
  {
   "cell_type": "markdown",
   "id": "3c587c23",
   "metadata": {},
   "source": [
    "# 3. Write a function that generates mock consumption data given a list of meters and a start date and duration (number of days in the forecast). The data may be completely random and it doesn't have to match with the meters' annual quantities either."
   ]
  },
  {
   "cell_type": "code",
   "execution_count": 284,
   "id": "b304381d",
   "metadata": {},
   "outputs": [],
   "source": [
    "\n",
    "def gen_mock_consumption(meters_list, start_date, n_periods):\n",
    "     \"\"\" A function to generate random meter consumption data.\n",
    "    \n",
    "    Parameters\n",
    "    ----------\n",
    "    \n",
    "    meters_list (list): a list of dataframes containing rates for various exit zones\n",
    "    \n",
    "\n",
    "    start_date : str\n",
    "        a string of the format 'YYYY-MM-DD' \n",
    "    n_periods : int \n",
    "        a positive integer specifying a number of daily observations required to be generated\n",
    "\n",
    "    Returns\n",
    "    -------\n",
    "    pandas df\n",
    "        A dataframe of the shape (meters_list*n_periods)x3\n",
    "        \n",
    "    \"\"\"\n",
    "    \n",
    "    \n",
    "    dfs_list = []\n",
    "    for meter in meters_list:\n",
    "        \n",
    "        dti =  pd.date_range(start = start_date,\n",
    "                  periods=n_days,\n",
    "                  freq = 'D')\n",
    "        kwh = np.random.uniform(df2['kwh'].min(),df2['kwh'].max(), size=n_days)\n",
    "        \n",
    "        dfs_list.append(pd.DataFrame({'meter_id' : list(meter['meter_id'].values)*n_days,\n",
    "                             'date' : dti,\n",
    "                             'kwh' : kwh\n",
    "                            }))\n",
    "    return pd.concat(dfs_list, axis=0)"
   ]
  },
  {
   "cell_type": "code",
   "execution_count": 286,
   "id": "f38b8ad9",
   "metadata": {},
   "outputs": [
    {
     "data": {
      "text/html": [
       "<div>\n",
       "<style scoped>\n",
       "    .dataframe tbody tr th:only-of-type {\n",
       "        vertical-align: middle;\n",
       "    }\n",
       "\n",
       "    .dataframe tbody tr th {\n",
       "        vertical-align: top;\n",
       "    }\n",
       "\n",
       "    .dataframe thead th {\n",
       "        text-align: right;\n",
       "    }\n",
       "</style>\n",
       "<table border=\"1\" class=\"dataframe\">\n",
       "  <thead>\n",
       "    <tr style=\"text-align: right;\">\n",
       "      <th></th>\n",
       "      <th>meter_id</th>\n",
       "      <th>date</th>\n",
       "      <th>kwh</th>\n",
       "    </tr>\n",
       "  </thead>\n",
       "  <tbody>\n",
       "    <tr>\n",
       "      <th>0</th>\n",
       "      <td>65431030</td>\n",
       "      <td>2010-01-01</td>\n",
       "      <td>887.810100</td>\n",
       "    </tr>\n",
       "    <tr>\n",
       "      <th>1</th>\n",
       "      <td>65431030</td>\n",
       "      <td>2010-01-02</td>\n",
       "      <td>1017.966610</td>\n",
       "    </tr>\n",
       "    <tr>\n",
       "      <th>2</th>\n",
       "      <td>65431030</td>\n",
       "      <td>2010-01-03</td>\n",
       "      <td>560.324971</td>\n",
       "    </tr>\n",
       "    <tr>\n",
       "      <th>0</th>\n",
       "      <td>57667056</td>\n",
       "      <td>2010-01-01</td>\n",
       "      <td>209.888631</td>\n",
       "    </tr>\n",
       "    <tr>\n",
       "      <th>1</th>\n",
       "      <td>57667056</td>\n",
       "      <td>2010-01-02</td>\n",
       "      <td>1127.714122</td>\n",
       "    </tr>\n",
       "    <tr>\n",
       "      <th>2</th>\n",
       "      <td>57667056</td>\n",
       "      <td>2010-01-03</td>\n",
       "      <td>362.758155</td>\n",
       "    </tr>\n",
       "    <tr>\n",
       "      <th>0</th>\n",
       "      <td>72938950</td>\n",
       "      <td>2010-01-01</td>\n",
       "      <td>814.374439</td>\n",
       "    </tr>\n",
       "    <tr>\n",
       "      <th>1</th>\n",
       "      <td>72938950</td>\n",
       "      <td>2010-01-02</td>\n",
       "      <td>52.352864</td>\n",
       "    </tr>\n",
       "    <tr>\n",
       "      <th>2</th>\n",
       "      <td>72938950</td>\n",
       "      <td>2010-01-03</td>\n",
       "      <td>1020.857582</td>\n",
       "    </tr>\n",
       "  </tbody>\n",
       "</table>\n",
       "</div>"
      ],
      "text/plain": [
       "   meter_id       date          kwh\n",
       "0  65431030 2010-01-01   887.810100\n",
       "1  65431030 2010-01-02  1017.966610\n",
       "2  65431030 2010-01-03   560.324971\n",
       "0  57667056 2010-01-01   209.888631\n",
       "1  57667056 2010-01-02  1127.714122\n",
       "2  57667056 2010-01-03   362.758155\n",
       "0  72938950 2010-01-01   814.374439\n",
       "1  72938950 2010-01-02    52.352864\n",
       "2  72938950 2010-01-03  1020.857582"
      ]
     },
     "execution_count": 286,
     "metadata": {},
     "output_type": "execute_result"
    }
   ],
   "source": [
    "gen_mock_consumption(list_of_3, start_date='2010-01-01', n_days=3)"
   ]
  },
  {
   "cell_type": "code",
   "execution_count": 287,
   "id": "557e0cf4",
   "metadata": {},
   "outputs": [
    {
     "name": "stdout",
     "output_type": "stream",
     "text": [
      "4.88 ms ± 546 µs per loop (mean ± std. dev. of 7 runs, 100 loops each)\n"
     ]
    }
   ],
   "source": [
    "%%timeit \n",
    "\n",
    "gen_mock_consumption(list_of_3, start_date='2020-01-01', n_days=10)\n"
   ]
  },
  {
   "cell_type": "markdown",
   "id": "a1bac3c4",
   "metadata": {},
   "source": [
    "# Q4.Write a function that takes as an input a meter list and a consumption forecast table and that calculates the transportation cost table (i.e., best take your logic from task 1 and wrap it in a functin). \n"
   ]
  },
  {
   "cell_type": "code",
   "execution_count": 370,
   "id": "18b3c599",
   "metadata": {},
   "outputs": [],
   "source": [
    "\n",
    "def calculate_transportation_costs(meter_list, consumption_forecast, rates_df):\n",
    "    df1 = pd.concat(meter_list, axis=0)\n",
    "    df2 = consumption_forecast\n",
    "    df3 = rates_df\n",
    "\n",
    "    # Join meter AQ data with daily consumption\n",
    "    consumption_info = df2.merge(df1, on='meter_id', how='left')  \n",
    "    # change datetimeindex to period index for merge\n",
    "    consumption_info['date'] = consumption_info['date'].dt.to_period('D')\n",
    "    # change datetimeindex to period index for merge\n",
    "    #     df3['date'] = df3['date'].dt.to_period('D')\n",
    "    # assuming the missing values have already been filled in\n",
    "    df3['aq_max_kwh'].fillna(7320000, inplace=True)\n",
    "    #\n",
    "    dates_range = pd.period_range(start=df3['date'].min(), end=df3['date'].max(), freq='D')\n",
    "    dates_range\n",
    "\n",
    "    # complete missing date information for interpolation for each of the exit_zones\n",
    "\n",
    "    complete_period = pd.DataFrame(product(consumption_info['exit_zone'].unique(),\n",
    "                                        dates_range), columns=['exit_zone', 'date'],\n",
    "\n",
    "                              )\n",
    "    # augment rates dataset with daily observations\n",
    "    daily_rates = complete_period.merge(df3, on =['exit_zone', 'date'], how='left')\n",
    "\n",
    "\n",
    "\n",
    "    daily_rates_complete = pd.concat([df3[(df3['rate_type']==bracket) & \n",
    "                                           df3['exit_zone'].isin(consumption_info['exit_zone'].unique())\n",
    "\n",
    "                                         ].merge(complete_period,on=['exit_zone', 'date'],how='right'\n",
    "                                                ).fillna(method='ffill')\n",
    "                                      for bracket in ['bracket 1', 'bracket 2', 'bracket 3']], axis=0)\n",
    "\n",
    "    daily_consumption = consumption_info.merge(daily_rates_complete, on=['date', 'exit_zone'],how='left')\n",
    "\n",
    "    daily_consumption['TC_GBP'] = (daily_consumption['kwh']*daily_consumption['rate_p_per_kwh'])*0.01\n",
    "    # filter on relevant AQ only and summarise\n",
    "    df4 = daily_consumption[(daily_consumption['aq_kwh']>= daily_consumption['aq_min_kwh']) & \n",
    "                      (daily_consumption['aq_kwh'] < daily_consumption['aq_max_kwh'])]\n",
    "\n",
    "    return df4.groupby('meter_id', as_index=True).sum()[['kwh', 'TC_GBP']].round(2).rename({'kwh' : 'TotalEstimatedConsumption (kwh)',\n",
    "                                                          'TC_GBP' : 'TotalCost (GBP)'}, axis=1).reset_index()"
   ]
  },
  {
   "cell_type": "code",
   "execution_count": 348,
   "id": "ce8ebe55",
   "metadata": {},
   "outputs": [
    {
     "data": {
      "text/html": [
       "<div>\n",
       "<style scoped>\n",
       "    .dataframe tbody tr th:only-of-type {\n",
       "        vertical-align: middle;\n",
       "    }\n",
       "\n",
       "    .dataframe tbody tr th {\n",
       "        vertical-align: top;\n",
       "    }\n",
       "\n",
       "    .dataframe thead th {\n",
       "        text-align: right;\n",
       "    }\n",
       "</style>\n",
       "<table border=\"1\" class=\"dataframe\">\n",
       "  <thead>\n",
       "    <tr style=\"text-align: right;\">\n",
       "      <th></th>\n",
       "      <th>meter_id</th>\n",
       "      <th>TotalEstimatedConsumption (kwh)</th>\n",
       "      <th>TotalCost (GBP)</th>\n",
       "    </tr>\n",
       "  </thead>\n",
       "  <tbody>\n",
       "    <tr>\n",
       "      <th>0</th>\n",
       "      <td>16860100</td>\n",
       "      <td>6114.17</td>\n",
       "      <td>16.41</td>\n",
       "    </tr>\n",
       "    <tr>\n",
       "      <th>1</th>\n",
       "      <td>59776356</td>\n",
       "      <td>5407.42</td>\n",
       "      <td>15.21</td>\n",
       "    </tr>\n",
       "    <tr>\n",
       "      <th>2</th>\n",
       "      <td>70878536</td>\n",
       "      <td>5070.31</td>\n",
       "      <td>15.54</td>\n",
       "    </tr>\n",
       "  </tbody>\n",
       "</table>\n",
       "</div>"
      ],
      "text/plain": [
       "   meter_id  TotalEstimatedConsumption (kwh)  TotalCost (GBP)\n",
       "0  16860100                          6114.17            16.41\n",
       "1  59776356                          5407.42            15.21\n",
       "2  70878536                          5070.31            15.54"
      ]
     },
     "execution_count": 348,
     "metadata": {},
     "output_type": "execute_result"
    }
   ],
   "source": [
    "list_of_3 = get_a_list_of_meters(df3, list_size=3)\n",
    "mock_consumption_data = gen_mock_consumption(meters_list=list_of_3, start_date='2020-01-01', n_days=100)\n",
    "\n",
    "calculate_transportation_costs(list_of_3, mock_consumption_data, df3)"
   ]
  },
  {
   "cell_type": "markdown",
   "id": "7921512a",
   "metadata": {},
   "source": [
    "# Benchmark this function using meter lists of different sizes and consumption forecasts for periods of different lengths. \n",
    "# How does the function scale for larger sets of data?"
   ]
  },
  {
   "cell_type": "code",
   "execution_count": 363,
   "id": "2a7bad0e",
   "metadata": {},
   "outputs": [
    {
     "name": "stdout",
     "output_type": "stream",
     "text": [
      "67.3 ms ± 9.61 ms per loop (mean ± std. dev. of 7 runs, 10 loops each)\n"
     ]
    }
   ],
   "source": [
    "%%timeit\n",
    "calculate_transportation_costs(list_of_3, mock_consumption_data, df3)"
   ]
  },
  {
   "cell_type": "code",
   "execution_count": 364,
   "id": "91584eb4",
   "metadata": {},
   "outputs": [
    {
     "name": "stdout",
     "output_type": "stream",
     "text": [
      "81.9 ms ± 13.6 ms per loop (mean ± std. dev. of 5 runs, 30 loops each)\n"
     ]
    }
   ],
   "source": [
    "t = %timeit -n30 -r5 -o calculate_transportation_costs(list_of_3, mock_consumption_data, df3)"
   ]
  },
  {
   "cell_type": "code",
   "execution_count": 417,
   "id": "05bc13e9",
   "metadata": {},
   "outputs": [
    {
     "name": "stdout",
     "output_type": "stream",
     "text": [
      "69 ms ± 10.4 ms per loop (mean ± std. dev. of 5 runs, 5 loops each)\n",
      "68 ms ± 10 ms per loop (mean ± std. dev. of 5 runs, 5 loops each)\n",
      "71.1 ms ± 10.7 ms per loop (mean ± std. dev. of 5 runs, 5 loops each)\n",
      "67.9 ms ± 7.35 ms per loop (mean ± std. dev. of 5 runs, 5 loops each)\n",
      "68.5 ms ± 8.27 ms per loop (mean ± std. dev. of 5 runs, 5 loops each)\n",
      "70.9 ms ± 11.4 ms per loop (mean ± std. dev. of 5 runs, 5 loops each)\n",
      "85.4 ms ± 15 ms per loop (mean ± std. dev. of 5 runs, 5 loops each)\n",
      "102 ms ± 10.7 ms per loop (mean ± std. dev. of 5 runs, 5 loops each)\n",
      "198 ms ± 11.7 ms per loop (mean ± std. dev. of 5 runs, 5 loops each)\n",
      "117 ms ± 11.9 ms per loop (mean ± std. dev. of 5 runs, 5 loops each)\n",
      "112 ms ± 14.1 ms per loop (mean ± std. dev. of 5 runs, 5 loops each)\n",
      "89.9 ms ± 9.23 ms per loop (mean ± std. dev. of 5 runs, 5 loops each)\n",
      "106 ms ± 10.8 ms per loop (mean ± std. dev. of 5 runs, 5 loops each)\n",
      "160 ms ± 24.7 ms per loop (mean ± std. dev. of 5 runs, 5 loops each)\n",
      "97.6 ms ± 9.03 ms per loop (mean ± std. dev. of 5 runs, 5 loops each)\n",
      "113 ms ± 11.7 ms per loop (mean ± std. dev. of 5 runs, 5 loops each)\n",
      "130 ms ± 16.7 ms per loop (mean ± std. dev. of 5 runs, 5 loops each)\n",
      "165 ms ± 17.7 ms per loop (mean ± std. dev. of 5 runs, 5 loops each)\n",
      "613 ms ± 53.1 ms per loop (mean ± std. dev. of 5 runs, 5 loops each)\n",
      "191 ms ± 3.1 ms per loop (mean ± std. dev. of 5 runs, 5 loops each)\n",
      "222 ms ± 11.3 ms per loop (mean ± std. dev. of 5 runs, 5 loops each)\n",
      "218 ms ± 16.7 ms per loop (mean ± std. dev. of 5 runs, 5 loops each)\n",
      "232 ms ± 41.6 ms per loop (mean ± std. dev. of 5 runs, 5 loops each)\n",
      "224 ms ± 14.8 ms per loop (mean ± std. dev. of 5 runs, 5 loops each)\n",
      "206 ms ± 5.06 ms per loop (mean ± std. dev. of 5 runs, 5 loops each)\n",
      "302 ms ± 23.5 ms per loop (mean ± std. dev. of 5 runs, 5 loops each)\n",
      "387 ms ± 26 ms per loop (mean ± std. dev. of 5 runs, 5 loops each)\n",
      "533 ms ± 37.4 ms per loop (mean ± std. dev. of 5 runs, 5 loops each)\n",
      "5.46 s ± 529 ms per loop (mean ± std. dev. of 5 runs, 5 loops each)\n",
      "1.28 s ± 68.4 ms per loop (mean ± std. dev. of 5 runs, 5 loops each)\n",
      "385 ms ± 23.4 ms per loop (mean ± std. dev. of 5 runs, 5 loops each)\n",
      "345 ms ± 20.9 ms per loop (mean ± std. dev. of 5 runs, 5 loops each)\n",
      "348 ms ± 2.82 ms per loop (mean ± std. dev. of 5 runs, 5 loops each)\n",
      "466 ms ± 35.9 ms per loop (mean ± std. dev. of 5 runs, 5 loops each)\n",
      "537 ms ± 1.83 ms per loop (mean ± std. dev. of 5 runs, 5 loops each)\n",
      "1.01 s ± 74.6 ms per loop (mean ± std. dev. of 5 runs, 5 loops each)\n",
      "1.6 s ± 99.5 ms per loop (mean ± std. dev. of 5 runs, 5 loops each)\n",
      "4.09 s ± 533 ms per loop (mean ± std. dev. of 5 runs, 5 loops each)\n",
      "59.9 s ± 2.45 s per loop (mean ± std. dev. of 5 runs, 5 loops each)\n",
      "11.7 s ± 215 ms per loop (mean ± std. dev. of 5 runs, 5 loops each)\n"
     ]
    }
   ],
   "source": [
    "n_meters = [3,10,100,1000]\n",
    "n_periods = [5,10,30,100,200,500,1000,3000,50000,10000]\n",
    "\n",
    "timeit_list=[]\n",
    "for m,p in product(n_meters,n_periods):\n",
    "    \n",
    "    meters = gen_a_list_of_meters(df3, list_size=m)\n",
    "    \n",
    "    consumption = gen_mock_consumption(meters, start_date='2020-04-01', n_days=p)\n",
    "    t = %timeit -n5 -r5 -o calculate_transportation_costs(meters, consumption, df3)\n",
    "    timeit_list.append(t)"
   ]
  },
  {
   "cell_type": "code",
   "execution_count": 426,
   "id": "c92d2145",
   "metadata": {},
   "outputs": [
    {
     "data": {
      "text/plain": [
       "<seaborn.axisgrid.FacetGrid at 0x7f08813b4190>"
      ]
     },
     "execution_count": 426,
     "metadata": {},
     "output_type": "execute_result"
    },
    {
     "data": {
      "image/png": "[encoded data removed]",
      "text/plain": [
       "<Figure size 835.5x500 with 1 Axes>"
      ]
     },
     "metadata": {},
     "output_type": "display_data"
    }
   ],
   "source": [
    "\n",
    "tdf = pd.concat([pd.DataFrame({'n_meters' : params[0],\n",
    "                  'n_periods' : params[1],\n",
    "                  'timeit_avg' : [data.average],\n",
    "                 'timeit_stdev' : [data.stdev],\n",
    "                 }) for params, data in zip([i for i in product(n_meters,n_periods)], timeit_list)])\n",
    "\n",
    "sns.relplot(data=tdf,y='timeit_avg', palette='Set1',\n",
    "            x='n_periods', hue='n_meters',aspect=1.5,  height=5,\n",
    "           kind='line')"
   ]
  },
  {
   "cell_type": "markdown",
   "id": "83afe6c1",
   "metadata": {},
   "source": [
    "# Q 5. What are your observations after benchmarking? Are there any steps in the cost calculation that can be improved? \n",
    "# How would you go about improving the performance of this calculation?"
   ]
  },
  {
   "cell_type": "markdown",
   "id": "c20f0b46",
   "metadata": {},
   "source": [
    "Since the function involves several joins, filling missing values, it's not surprising it doesn't scale well.\n",
    "It may be possible to improve it by"
   ]
  },
  {
   "cell_type": "code",
   "execution_count": null,
   "id": "4d8c830b",
   "metadata": {},
   "outputs": [],
   "source": [
    "The fact that the function that generates the meter consumption data gets a list as an input must also play a role"
   ]
  }
 ],
 "metadata": {
  "kernelspec": {
   "display_name": "Python 3 (ipykernel)",
   "language": "python",
   "name": "python3"
  },
  "language_info": {
   "codemirror_mode": {
    "name": "ipython",
    "version": 3
   },
   "file_extension": ".py",
   "mimetype": "text/x-python",
   "name": "python",
   "nbconvert_exporter": "python",
   "pygments_lexer": "ipython3",
   "version": "3.7.4"
  }
 },
 "nbformat": 4,
 "nbformat_minor": 5
}
